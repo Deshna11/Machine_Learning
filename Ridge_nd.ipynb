{
 "cells": [
  {
   "cell_type": "code",
   "execution_count": 29,
   "metadata": {},
   "outputs": [],
   "source": [
    "import pandas as pd\n",
    "import numpy as np\n",
    "from sklearn.model_selection import train_test_split\n",
    "from sklearn.datasets import load_diabetes\n",
    "from sklearn.linear_model import LinearRegression, Ridge"
   ]
  },
  {
   "cell_type": "code",
   "execution_count": 23,
   "metadata": {},
   "outputs": [],
   "source": [
    "X,y = load_diabetes(return_X_y=True)\n",
    "X_train,X_test,y_train,y_test = train_test_split(X,y,test_size=0.2,random_state=4)"
   ]
  },
  {
   "cell_type": "code",
   "execution_count": 24,
   "metadata": {},
   "outputs": [
    {
     "data": {
      "text/plain": [
       "(353, 10)"
      ]
     },
     "execution_count": 24,
     "metadata": {},
     "output_type": "execute_result"
    }
   ],
   "source": [
    "X_train.shape"
   ]
  },
  {
   "cell_type": "code",
   "execution_count": 25,
   "metadata": {},
   "outputs": [
    {
     "data": {
      "text/plain": [
       "(353,)"
      ]
     },
     "execution_count": 25,
     "metadata": {},
     "output_type": "execute_result"
    }
   ],
   "source": [
    "y_train.shape"
   ]
  },
  {
   "cell_type": "code",
   "execution_count": 26,
   "metadata": {},
   "outputs": [],
   "source": [
    "class nD_Ridge:\n",
    "    \n",
    "    def __init__(self, alpha):\n",
    "        self.alpha = alpha\n",
    "        self.coef = None\n",
    "        self.intercept = None\n",
    "        \n",
    "    def fit (self, X_train, y_train):\n",
    "        X_train = np.insert(X_train, 0, 1, axis=1)\n",
    "        I = np.identity(X_train.shape[1])\n",
    "        I[0][0] = 0\n",
    "        result = np.linalg.inv(np.dot(X_train.T, X_train) + self.alpha * I).dot(X_train.T).dot(y_train)\n",
    "        self.intercept = result[0]\n",
    "        self.coef = result[1:]\n",
    "        print('intercept: ', self.intercept)\n",
    "        print('coefficient: ', self.coef)\n",
    "        \n",
    "    def predict (self, X_test):\n",
    "        return self.intercept + np.dot(X_test, self.coef)"
   ]
  },
  {
   "cell_type": "code",
   "execution_count": 28,
   "metadata": {},
   "outputs": [
    {
     "name": "stdout",
     "output_type": "stream",
     "text": [
      "intercept:  150.93769241774035\n",
      "coefficient:  [  38.87221436 -282.99890962  485.04798165  362.44102166 -419.23022085\n",
      "  168.11031311  -18.84345801  203.84317074  594.02688454   37.92313953]\n",
      "0.46671365172206947\n"
     ]
    }
   ],
   "source": [
    "from sklearn.metrics import r2_score\n",
    "rr = nD_Ridge(0.01)\n",
    "rr.fit(X_train, y_train)\n",
    "pred = rr.predict(X_test)\n",
    "print(r2_score(y_test, pred))"
   ]
  },
  {
   "cell_type": "code",
   "execution_count": 30,
   "metadata": {},
   "outputs": [
    {
     "name": "stdout",
     "output_type": "stream",
     "text": [
      "intercept : 150.93769241774038\n",
      "coefficient : [  38.87221436 -282.99890962  485.04798165  362.44102166 -419.23022085\n",
      "  168.11031311  -18.84345801  203.84317074  594.02688454   37.92313953]\n",
      "0.46671365172206947\n"
     ]
    }
   ],
   "source": [
    "# cross checking with existing class:\n",
    "rr1 = Ridge(alpha= 0.01)\n",
    "rr1.fit(X_train, y_train)\n",
    "pred1 = rr1.predict(X_test)\n",
    "print('intercept :', rr1.intercept_)\n",
    "print('coefficient :', rr1.coef_)\n",
    "print(r2_score(y_test, pred1))"
   ]
  }
 ],
 "metadata": {
  "kernelspec": {
   "display_name": "base",
   "language": "python",
   "name": "python3"
  },
  "language_info": {
   "codemirror_mode": {
    "name": "ipython",
    "version": 3
   },
   "file_extension": ".py",
   "mimetype": "text/x-python",
   "name": "python",
   "nbconvert_exporter": "python",
   "pygments_lexer": "ipython3",
   "version": "3.12.7"
  }
 },
 "nbformat": 4,
 "nbformat_minor": 2
}
