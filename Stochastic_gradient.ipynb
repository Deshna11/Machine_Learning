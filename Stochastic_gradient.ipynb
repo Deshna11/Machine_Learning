{
 "cells": [
  {
   "cell_type": "code",
   "execution_count": 39,
   "metadata": {},
   "outputs": [],
   "source": [
    "import numpy as np \n",
    "import pandas as pd \n",
    "import random\n",
    "from sklearn.datasets import load_diabetes\n",
    "X,y = load_diabetes(return_X_y= True)"
   ]
  },
  {
   "cell_type": "code",
   "execution_count": 40,
   "metadata": {},
   "outputs": [],
   "source": [
    "class Stoch_GD:\n",
    "    def __init__(self, epochs, learning_rate):\n",
    "        self.epochs = epochs\n",
    "        self.learning_rate = learning_rate\n",
    "        self.intercept_ = None\n",
    "        self.coeff = None\n",
    "    def fit(self, X_train, y_train):\n",
    "        self.intercept_ = 0\n",
    "        self.coeff = np.ones(X_train.shape[1])\n",
    "        \n",
    "        for i in range (self.epochs):\n",
    "            for j in range (X_train.shape[0]):\n",
    "                idx = np.random.randint(0, X_train.shape[0])\n",
    "                y_hat = self.intercept_ + np.dot(X_train[idx],self.coeff)\n",
    "                \n",
    "                intercept_def = -2 * (y_train[idx]-y_hat)\n",
    "                self.intercept_ = self.intercept_ - (self.learning_rate * intercept_def)\n",
    "                \n",
    "                coeff_def = -2 * (y_train[idx]-y_hat)\n",
    "                self.coeff = self.coeff - (self.learning_rate * coeff_def)\n",
    "        print('intercept : ',self.intercept_,'\\n', 'coefficient :',self.coeff)       \n",
    "        \n",
    "    def predict(self, X_test):\n",
    "        return self.intercept_ + np.dot(X_test, self.coeff)"
   ]
  },
  {
   "cell_type": "code",
   "execution_count": 41,
   "metadata": {},
   "outputs": [
    {
     "name": "stdout",
     "output_type": "stream",
     "text": [
      "intercept :  156.16082818953953 \n",
      " coefficient : [157.16082819 157.16082819 157.16082819 157.16082819 157.16082819\n",
      " 157.16082819 157.16082819 157.16082819 157.16082819 157.16082819]\n",
      "0.07512858112365028\n"
     ]
    }
   ],
   "source": [
    "from sklearn.model_selection import train_test_split\n",
    "from sklearn.metrics import r2_score\n",
    "X_train, X_test, y_train, y_test = train_test_split(X, y, test_size= 0.2)\n",
    "gdr = Stoch_GD(1000, 0.1)\n",
    "gdr.fit(X_train, y_train)\n",
    "y_pred = gdr.predict(X_test)\n",
    "print(r2_score(y_test, y_pred))"
   ]
  },
  {
   "cell_type": "code",
   "execution_count": 42,
   "metadata": {},
   "outputs": [
    {
     "name": "stdout",
     "output_type": "stream",
     "text": [
      "0.44538849364487\n",
      "intercept :  154.71066788428067\n",
      "coefficient :  [ -23.76661456 -232.12166608  546.52261282  296.64251201 -676.97211862\n",
      "  410.26480274   54.25345562  224.46223317  713.67478007   49.82513099]\n"
     ]
    }
   ],
   "source": [
    "# checking with SkLearn:\n",
    "from sklearn.linear_model import LinearRegression\n",
    "lr1 = LinearRegression()\n",
    "lr1.fit(X_train, y_train)\n",
    "y_pred1 = lr1.predict(X_test)\n",
    "print(r2_score(y_test, y_pred1))\n",
    "print('intercept : ',lr1.intercept_)\n",
    "print('coefficient : ',lr1.coef_)"
   ]
  }
 ],
 "metadata": {
  "kernelspec": {
   "display_name": "base",
   "language": "python",
   "name": "python3"
  },
  "language_info": {
   "codemirror_mode": {
    "name": "ipython",
    "version": 3
   },
   "file_extension": ".py",
   "mimetype": "text/x-python",
   "name": "python",
   "nbconvert_exporter": "python",
   "pygments_lexer": "ipython3",
   "version": "3.12.7"
  }
 },
 "nbformat": 4,
 "nbformat_minor": 2
}
