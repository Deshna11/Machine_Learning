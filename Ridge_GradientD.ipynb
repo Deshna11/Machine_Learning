{
 "cells": [
  {
   "cell_type": "code",
   "execution_count": 28,
   "metadata": {},
   "outputs": [],
   "source": [
    "import numpy as np \n",
    "import pandas as pd\n",
    "from sklearn.model_selection import train_test_split\n",
    "from sklearn.linear_model import LinearRegression, Ridge\n",
    "from sklearn.metrics import r2_score\n",
    "from sklearn.datasets import load_diabetes"
   ]
  },
  {
   "cell_type": "code",
   "execution_count": 29,
   "metadata": {},
   "outputs": [],
   "source": [
    "X, y = load_diabetes(return_X_y= True)\n",
    "X_train, X_test, y_train, y_test = train_test_split(X, y, test_size= 0.2)"
   ]
  },
  {
   "cell_type": "code",
   "execution_count": 30,
   "metadata": {},
   "outputs": [],
   "source": [
    "class Ridge_GD:\n",
    "    \n",
    "    def __init__(self,epochs, learning_rate, alpha):\n",
    "        self.epochs = epochs\n",
    "        self.learning_rate = learning_rate\n",
    "        self.alpha = alpha\n",
    "        self.intercept = None\n",
    "        self.coef = None\n",
    "        \n",
    "    def fit(self, X_train, y_train):\n",
    "        self.coef = np.ones(X_train.shape[1])\n",
    "        self.intercept = 0\n",
    "        theta = np.insert(self.coef, 0, self.intercept)\n",
    "        \n",
    "        X_train = np.insert(X_train, 0, 1, axis= 1)\n",
    "        \n",
    "        for i in range(self.epochs):\n",
    "            theta_der = np.dot(X_train.T, X_train).dot(theta) - np.dot(X_train.T, y_train) + self.alpha*theta\n",
    "            theta = theta - self.learning_rate * theta_der\n",
    "        \n",
    "        self.intercept = theta[0]\n",
    "        self.coef = theta[1:]\n",
    "        \n",
    "        print('intercept :', self.intercept)\n",
    "        print('coefficient : ', self.coef)\n",
    "        \n",
    "    def predict(self, X_test):\n",
    "        return np.dot(X_test, self.coef) + self.intercept"
   ]
  },
  {
   "cell_type": "code",
   "execution_count": 33,
   "metadata": {},
   "outputs": [
    {
     "name": "stdout",
     "output_type": "stream",
     "text": [
      "intercept : 151.69105252958147\n",
      "coefficient :  [ -33.87208175 -185.97582995  471.06408946  310.47540182  -12.97943577\n",
      " -111.47464618 -177.31927041  130.47703996  441.05019672   89.6205914 ]\n",
      "0.4428352190907957\n"
     ]
    }
   ],
   "source": [
    "rr = Ridge_GD(epochs=500, learning_rate= 0.005, alpha=0.001)\n",
    "rr.fit(X_train,y_train)\n",
    "y_pred = rr.predict(X_test)\n",
    "print(r2_score(y_test, y_pred))"
   ]
  },
  {
   "cell_type": "code",
   "execution_count": 34,
   "metadata": {},
   "outputs": [
    {
     "name": "stdout",
     "output_type": "stream",
     "text": [
      "0.42404157433050194\n",
      "[ -79.84665012 -226.75179706  525.88774698  350.71018278 -568.15302749\n",
      "  268.16467017  106.83359486  211.30279654  728.70760656   26.25656615]\n",
      "151.87712909964446\n"
     ]
    }
   ],
   "source": [
    "rr1 = Ridge(alpha=0.001, max_iter=500,solver='sparse_cg')\n",
    "rr1.fit(X_train,y_train)\n",
    "y_pred1 = rr1.predict(X_test)f\n",
    "print(r2_score(y_test, y_pred1))\n",
    "print(rr1.coef_)\n",
    "print(rr1.intercept_)"
   ]
  }
 ],
 "metadata": {
  "kernelspec": {
   "display_name": "base",
   "language": "python",
   "name": "python3"
  },
  "language_info": {
   "codemirror_mode": {
    "name": "ipython",
    "version": 3
   },
   "file_extension": ".py",
   "mimetype": "text/x-python",
   "name": "python",
   "nbconvert_exporter": "python",
   "pygments_lexer": "ipython3",
   "version": "3.12.7"
  }
 },
 "nbformat": 4,
 "nbformat_minor": 2
}
