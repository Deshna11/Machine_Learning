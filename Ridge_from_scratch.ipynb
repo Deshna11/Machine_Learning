{
 "cells": [
  {
   "cell_type": "code",
   "execution_count": 5,
   "metadata": {},
   "outputs": [],
   "source": [
    "import numpy as np \n",
    "import pandas as pd\n",
    "from sklearn.model_selection import train_test_split\n",
    "from sklearn.linear_model import Ridge, LinearRegression\n",
    "from sklearn.datasets import make_regression"
   ]
  },
  {
   "cell_type": "code",
   "execution_count": 6,
   "metadata": {},
   "outputs": [],
   "source": [
    "X, y = make_regression(n_samples=100, n_features=1, n_informative=1, n_targets=1,noise=20,random_state=13)"
   ]
  },
  {
   "cell_type": "code",
   "execution_count": 7,
   "metadata": {},
   "outputs": [],
   "source": [
    "class myRidge:\n",
    "    def __init__(self, alpha):\n",
    "        self.m = None\n",
    "        self.b = None\n",
    "        self.alpha = alpha\n",
    "    def fit(self, X_train, y_train):\n",
    "        num = 0\n",
    "        den = 0\n",
    "        for i in range (X_train.shape[0]):\n",
    "            num = num + (X_train[i] - X_train.mean())*(y_train[i] - y_train.mean())\n",
    "            den = den + (X_train[i] - X_train.mean()) ** 2\n",
    "        self.m = num/(den + self.alpha)\n",
    "        self.b = y_train.mean() - self.m * X_train.mean()\n",
    "        print('value of m :',self.m,'\\n value of b :', self.b)\n",
    "    def predict(self, X_test):\n",
    "        return self.m * X_test + self.b"
   ]
  },
  {
   "cell_type": "code",
   "execution_count": 8,
   "metadata": {},
   "outputs": [
    {
     "name": "stdout",
     "output_type": "stream",
     "text": [
      "value of m : [24.31628389] \n",
      " value of b : [-3.12330307]\n"
     ]
    },
    {
     "data": {
      "text/plain": [
       "0.6083676901915223"
      ]
     },
     "execution_count": 8,
     "metadata": {},
     "output_type": "execute_result"
    }
   ],
   "source": [
    "from sklearn.metrics import r2_score\n",
    "X_train, X_test, y_train, y_test = train_test_split(X, y, test_size= 0.2)\n",
    "rr = myRidge(10)\n",
    "rr.fit(X_train, y_train)\n",
    "pred = rr.predict(X_test)\n",
    "r2_score(y_test, pred)"
   ]
  },
  {
   "cell_type": "code",
   "execution_count": 9,
   "metadata": {},
   "outputs": [
    {
     "name": "stdout",
     "output_type": "stream",
     "text": [
      "0.6227776750985239\n",
      "[27.56851982]\n",
      "-3.4786695893402095\n"
     ]
    }
   ],
   "source": [
    "# checking with SkLearn:\n",
    "lr = LinearRegression()\n",
    "lr.fit(X_train, y_train)\n",
    "y_pred = lr.predict(X_test)\n",
    "print(r2_score(y_test, y_pred))\n",
    "print(lr.coef_)\n",
    "print(lr.intercept_)"
   ]
  },
  {
   "cell_type": "code",
   "execution_count": 11,
   "metadata": {},
   "outputs": [
    {
     "name": "stdout",
     "output_type": "stream",
     "text": [
      "0.608367690191522\n",
      "[24.31628389]\n",
      "-3.1233030724347626\n"
     ]
    }
   ],
   "source": [
    "# checking with Ridge\n",
    "rr1 = Ridge(alpha=10)\n",
    "rr1.fit(X_train,y_train)\n",
    "y_pred1 = rr1.predict(X_test)\n",
    "print(r2_score(y_test, y_pred1))\n",
    "print(rr1.coef_)\n",
    "print(rr1.intercept_)"
   ]
  }
 ],
 "metadata": {
  "kernelspec": {
   "display_name": "base",
   "language": "python",
   "name": "python3"
  },
  "language_info": {
   "codemirror_mode": {
    "name": "ipython",
    "version": 3
   },
   "file_extension": ".py",
   "mimetype": "text/x-python",
   "name": "python",
   "nbconvert_exporter": "python",
   "pygments_lexer": "ipython3",
   "version": "3.12.7"
  }
 },
 "nbformat": 4,
 "nbformat_minor": 2
}
